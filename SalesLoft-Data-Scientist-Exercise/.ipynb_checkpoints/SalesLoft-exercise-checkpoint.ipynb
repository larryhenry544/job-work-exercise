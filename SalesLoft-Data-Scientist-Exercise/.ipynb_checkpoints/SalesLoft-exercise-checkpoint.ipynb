{
 "cells": [
  {
   "cell_type": "markdown",
   "metadata": {},
   "source": [
    "# Offline Exercise\n",
    "\n",
    "This notebook has the questions and instructions for the offline exercise. If you haven't already, please go through the `README.md` file before you begin answering the questions here.\n",
    "\n",
    "Make sure you do NOT commit your answers back to the repo. Instead, copy-paste this notebook together with the `touches.sqlite3` file to a separate folder in your machine, type your answers in that copied notebook, and when you're done, share the new Jupyter notebook back with the recruiter together with additional modules, graphs etc. that you may have. You would need to use the data in the `touches.sqlite3` file to answer all the questions."
   ]
  },
  {
   "cell_type": "markdown",
   "metadata": {},
   "source": [
    "### Question 1. Find the most common industry out of all the companies that were `contacted`."
   ]
  },
  {
   "cell_type": "code",
   "execution_count": null,
   "metadata": {},
   "outputs": [],
   "source": [
    "# !pip install plotly"
   ]
  },
  {
   "cell_type": "code",
   "execution_count": 1,
   "metadata": {},
   "outputs": [],
   "source": [
    "# import statements for all of the packages that will or may be used.\n",
    "\n",
    "import numpy as np\n",
    "import pandas as pd\n",
    "import matplotlib.pyplot as plt\n",
    "import seaborn as sns\n",
    "import sqlite3\n",
    "from sqlite3 import Error\n",
    "import os\n",
    "\n",
    "import plotly \n",
    "import plotly.express as px\n",
    "import plotly.graph_objs as go\n",
    "import plotly.offline as py\n",
    "from plotly.offline import iplot\n",
    "from plotly.subplots import make_subplots\n",
    "import plotly.figure_factory as ff\n",
    "\n",
    "%matplotlib inline\n",
    "\n",
    "# from google.colab import drive, files\n",
    "# drive.mount('/content/gdrive')"
   ]
  },
  {
   "cell_type": "code",
   "execution_count": 2,
   "metadata": {},
   "outputs": [
    {
     "name": "stdout",
     "output_type": "stream",
     "text": [
      "Files in Drive: \n",
      "['.ipynb_checkpoints', 'exercise - Original.ipynb', 'README.md', 'SalesLoft-exercise.ipynb', 'SalesLoft_exercise_colab.ipynb', 'touches.sqlite3', 'touches_my_queries.sql']\n"
     ]
    }
   ],
   "source": [
    "print (\"Files in Drive: \")\n",
    "\n",
    "arr = os.listdir()\n",
    "print(arr)"
   ]
  },
  {
   "cell_type": "code",
   "execution_count": 3,
   "metadata": {},
   "outputs": [],
   "source": [
    "def create_connection(db_file):\n",
    "    \"\"\" \n",
    "    create a database connection to the SQLite database specified by the db_file\n",
    "      :param db_file: database file\n",
    "      :return: Connection object or None\n",
    "    \"\"\"\n",
    "    conn = None\n",
    "    try:\n",
    "        conn = sqlite3.connect(db_file)\n",
    "    except Error as error:\n",
    "        print(\"Failed to connect to database file - \", error)\n",
    "\n",
    "    return conn"
   ]
  },
  {
   "cell_type": "code",
   "execution_count": 4,
   "metadata": {},
   "outputs": [],
   "source": [
    "database = r\"touches.sqlite3\"\n",
    "\n",
    "# creating a database connection\n",
    "conn = create_connection(database)"
   ]
  },
  {
   "cell_type": "code",
   "execution_count": 5,
   "metadata": {},
   "outputs": [
    {
     "data": {
      "text/html": [
       "<div>\n",
       "<style scoped>\n",
       "    .dataframe tbody tr th:only-of-type {\n",
       "        vertical-align: middle;\n",
       "    }\n",
       "\n",
       "    .dataframe tbody tr th {\n",
       "        vertical-align: top;\n",
       "    }\n",
       "\n",
       "    .dataframe thead th {\n",
       "        text-align: right;\n",
       "    }\n",
       "</style>\n",
       "<table border=\"1\" class=\"dataframe\">\n",
       "  <thead>\n",
       "    <tr style=\"text-align: right;\">\n",
       "      <th></th>\n",
       "      <th>CompanyID</th>\n",
       "      <th>industry</th>\n",
       "      <th>Record_Count</th>\n",
       "    </tr>\n",
       "  </thead>\n",
       "  <tbody>\n",
       "    <tr>\n",
       "      <th>0</th>\n",
       "      <td>3144</td>\n",
       "      <td>Internet Software &amp; Services</td>\n",
       "      <td>3502</td>\n",
       "    </tr>\n",
       "    <tr>\n",
       "      <th>1</th>\n",
       "      <td>3198</td>\n",
       "      <td>Professional Services</td>\n",
       "      <td>999</td>\n",
       "    </tr>\n",
       "    <tr>\n",
       "      <th>2</th>\n",
       "      <td>862</td>\n",
       "      <td>Consulting</td>\n",
       "      <td>422</td>\n",
       "    </tr>\n",
       "    <tr>\n",
       "      <th>3</th>\n",
       "      <td>3432</td>\n",
       "      <td>Computer Software</td>\n",
       "      <td>374</td>\n",
       "    </tr>\n",
       "    <tr>\n",
       "      <th>4</th>\n",
       "      <td>4669</td>\n",
       "      <td>Technology</td>\n",
       "      <td>359</td>\n",
       "    </tr>\n",
       "  </tbody>\n",
       "</table>\n",
       "</div>"
      ],
      "text/plain": [
       "   CompanyID                      industry  Record_Count\n",
       "0       3144  Internet Software & Services          3502\n",
       "1       3198         Professional Services           999\n",
       "2        862                    Consulting           422\n",
       "3       3432             Computer Software           374\n",
       "4       4669                    Technology           359"
      ]
     },
     "execution_count": 5,
     "metadata": {},
     "output_type": "execute_result"
    }
   ],
   "source": [
    "qry1 = \"\"\"\n",
    "\n",
    "SELECT co.id AS CompanyID\n",
    "\t, co.industry\n",
    "\t, COUNT(DISTINCT co.id) AS Record_Count\n",
    "FROM companies co\n",
    "INNER JOIN persons p \n",
    "\tON p.company_id = co.id\n",
    "\t\tAND p.job_seniority NOT IN ('Individual Contributor', 'Unknown')\n",
    "INNER JOIN touches t \n",
    "\tON t.person_id = p.id\n",
    "\t\tAND t.STATUS = 'completed'\n",
    "WHERE co.industry != ''\n",
    "GROUP BY co.industry\n",
    "ORDER BY COUNT(DISTINCT co.id) DESC \n",
    "\n",
    "\"\"\"\n",
    "\n",
    "df1 = pd.read_sql_query(qry1, conn)\n",
    "\n",
    "# Verify that result of SQL query is stored in the dataframe\n",
    "# print(df.head(), df.tail(), df.describe())\n",
    "df1.head()"
   ]
  },
  {
   "cell_type": "code",
   "execution_count": 6,
   "metadata": {},
   "outputs": [
    {
     "name": "stdout",
     "output_type": "stream",
     "text": [
      "Internet Software & Services is the most common industry out of all the companies that were contacted.\n"
     ]
    }
   ],
   "source": [
    "print(f\"{df1.iloc[0][1]} is the most common industry out of all the companies that were contacted.\")"
   ]
  },
  {
   "cell_type": "markdown",
   "metadata": {},
   "source": [
    "### Question 2. What is the most common touch type sellers use when they’re making their first touch with a person? What about first touch with a company?"
   ]
  },
  {
   "cell_type": "code",
   "execution_count": null,
   "metadata": {},
   "outputs": [],
   "source": [
    "# !pip install ipython-sql"
   ]
  },
  {
   "cell_type": "code",
   "execution_count": 7,
   "metadata": {},
   "outputs": [],
   "source": [
    "%load_ext sql"
   ]
  },
  {
   "cell_type": "code",
   "execution_count": 8,
   "metadata": {},
   "outputs": [],
   "source": [
    "%sql sqlite:///touches.sqlite3"
   ]
  },
  {
   "cell_type": "code",
   "execution_count": 9,
   "metadata": {},
   "outputs": [
    {
     "name": "stdout",
     "output_type": "stream",
     "text": [
      " * sqlite:///touches.sqlite3\n",
      "Done.\n"
     ]
    },
    {
     "data": {
      "text/html": [
       "<table>\n",
       "    <tr>\n",
       "        <th>touch_type</th>\n",
       "        <th>Count</th>\n",
       "    </tr>\n",
       "    <tr>\n",
       "        <td>Other</td>\n",
       "        <td>31057</td>\n",
       "    </tr>\n",
       "    <tr>\n",
       "        <td>Email</td>\n",
       "        <td>18384</td>\n",
       "    </tr>\n",
       "    <tr>\n",
       "        <td>Phone</td>\n",
       "        <td>10800</td>\n",
       "    </tr>\n",
       "    <tr>\n",
       "        <td>Integration</td>\n",
       "        <td>794</td>\n",
       "    </tr>\n",
       "</table>"
      ],
      "text/plain": [
       "[('Other', 31057), ('Email', 18384), ('Phone', 10800), ('Integration', 794)]"
      ]
     },
     "execution_count": 9,
     "metadata": {},
     "output_type": "execute_result"
    }
   ],
   "source": [
    "%%sql\n",
    "SELECT touch_type, COUNT(touch_type) AS Count FROM (\n",
    "SELECT ROW_NUMBER() OVER(PARTITION BY t.person_id ORDER BY t.person_id, t.touch_scheduled_on) AS RowNum,\n",
    "\t\tt.id,\n",
    "       t.person_id,\n",
    "       t.touch_scheduled_on,\n",
    "       t.status, \n",
    "       t.touch_type,\n",
    "       p.company_id,\n",
    "       p.job_seniority\n",
    "FROM touches t \n",
    "\tInner Join persons p ON p.id = (SELECT p.Id FROM persons p WHERE p.id = t.person_id ORDER BY p.id LIMIT 1)\n",
    "ORDER BY t.person_id, t.id \n",
    ") t\n",
    "WHERE RowNum = 1\n",
    "GROUP BY touch_type \n",
    "ORDER BY COUNT(touch_type) DESC;"
   ]
  },
  {
   "cell_type": "code",
   "execution_count": 10,
   "metadata": {},
   "outputs": [
    {
     "name": "stdout",
     "output_type": "stream",
     "text": [
      " * sqlite:///touches.sqlite3\n",
      "Done.\n"
     ]
    },
    {
     "data": {
      "text/html": [
       "<table>\n",
       "    <tr>\n",
       "        <th>touch_type</th>\n",
       "        <th>Count</th>\n",
       "    </tr>\n",
       "    <tr>\n",
       "        <td>Other</td>\n",
       "        <td>4975</td>\n",
       "    </tr>\n",
       "    <tr>\n",
       "        <td>Email</td>\n",
       "        <td>3511</td>\n",
       "    </tr>\n",
       "    <tr>\n",
       "        <td>Phone</td>\n",
       "        <td>1607</td>\n",
       "    </tr>\n",
       "    <tr>\n",
       "        <td>Integration</td>\n",
       "        <td>102</td>\n",
       "    </tr>\n",
       "</table>"
      ],
      "text/plain": [
       "[('Other', 4975), ('Email', 3511), ('Phone', 1607), ('Integration', 102)]"
      ]
     },
     "execution_count": 10,
     "metadata": {},
     "output_type": "execute_result"
    }
   ],
   "source": [
    "%%sql\n",
    "SELECT touch_type, COUNT(touch_type) AS Count FROM (\n",
    " SELECT ROW_NUMBER() OVER(PARTITION BY co.id ORDER BY co.id, t.touch_scheduled_on) AS RowNum,\n",
    "    t.id,\n",
    "    t.person_id,\n",
    "    t.touch_scheduled_on,\n",
    "    t.status, \n",
    "    t.touch_type,\n",
    "    p.job_seniority,\n",
    "    co.id AS company_id,\n",
    "    co.industry       \n",
    " FROM touches t \n",
    "\tInner Join persons p ON p.id = (SELECT p.Id FROM persons p WHERE p.id = t.person_id ORDER BY p.id LIMIT 1)\n",
    "\tInner Join companies co ON co.id = (SELECT co.id FROM companies co WHERE co.id = p.company_id ORDER BY co.id LIMIT 1)\n",
    " ORDER BY co.id, t.id \n",
    ") t\n",
    " WHERE RowNum = 1\n",
    " GROUP BY touch_type \n",
    " ORDER BY COUNT(touch_type) DESC;"
   ]
  },
  {
   "cell_type": "code",
   "execution_count": 11,
   "metadata": {},
   "outputs": [],
   "source": [
    "result = _"
   ]
  },
  {
   "cell_type": "code",
   "execution_count": 12,
   "metadata": {},
   "outputs": [
    {
     "data": {
      "text/plain": [
       "sql.run.ResultSet"
      ]
     },
     "execution_count": 12,
     "metadata": {},
     "output_type": "execute_result"
    }
   ],
   "source": [
    "type(result)"
   ]
  },
  {
   "cell_type": "code",
   "execution_count": 13,
   "metadata": {},
   "outputs": [
    {
     "data": {
      "text/html": [
       "<div>\n",
       "<style scoped>\n",
       "    .dataframe tbody tr th:only-of-type {\n",
       "        vertical-align: middle;\n",
       "    }\n",
       "\n",
       "    .dataframe tbody tr th {\n",
       "        vertical-align: top;\n",
       "    }\n",
       "\n",
       "    .dataframe thead th {\n",
       "        text-align: right;\n",
       "    }\n",
       "</style>\n",
       "<table border=\"1\" class=\"dataframe\">\n",
       "  <thead>\n",
       "    <tr style=\"text-align: right;\">\n",
       "      <th></th>\n",
       "      <th>touch_type</th>\n",
       "      <th>Count</th>\n",
       "    </tr>\n",
       "  </thead>\n",
       "  <tbody>\n",
       "    <tr>\n",
       "      <th>0</th>\n",
       "      <td>Other</td>\n",
       "      <td>4975</td>\n",
       "    </tr>\n",
       "    <tr>\n",
       "      <th>1</th>\n",
       "      <td>Email</td>\n",
       "      <td>3511</td>\n",
       "    </tr>\n",
       "    <tr>\n",
       "      <th>2</th>\n",
       "      <td>Phone</td>\n",
       "      <td>1607</td>\n",
       "    </tr>\n",
       "    <tr>\n",
       "      <th>3</th>\n",
       "      <td>Integration</td>\n",
       "      <td>102</td>\n",
       "    </tr>\n",
       "  </tbody>\n",
       "</table>\n",
       "</div>"
      ],
      "text/plain": [
       "    touch_type  Count\n",
       "0        Other   4975\n",
       "1        Email   3511\n",
       "2        Phone   1607\n",
       "3  Integration    102"
      ]
     },
     "execution_count": 13,
     "metadata": {},
     "output_type": "execute_result"
    }
   ],
   "source": [
    "df2 = result.DataFrame()\n",
    "\n",
    "df2.head()"
   ]
  },
  {
   "cell_type": "markdown",
   "metadata": {},
   "source": [
    "#### The most common touch type sellers use when they’re making their first touch with a person and a company is \n",
    "> Other"
   ]
  },
  {
   "cell_type": "markdown",
   "metadata": {},
   "source": [
    "### Question 3. Describe the distribution of the job seniorities of people that a seller will first try to contact within a company.\n",
    "\n",
    "To answer this question, you may use visuals, graphs, bunch of scores, tables, writeups - whatever you want. We literally want you to \"describe\" the distribution to us in the best way you can!\n",
    "\n",
    "(Note: this question doesn't really have one right answer. It's more about your style of communicating the results.)"
   ]
  },
  {
   "cell_type": "code",
   "execution_count": 14,
   "metadata": {},
   "outputs": [
    {
     "data": {
      "text/html": [
       "<div>\n",
       "<style scoped>\n",
       "    .dataframe tbody tr th:only-of-type {\n",
       "        vertical-align: middle;\n",
       "    }\n",
       "\n",
       "    .dataframe tbody tr th {\n",
       "        vertical-align: top;\n",
       "    }\n",
       "\n",
       "    .dataframe thead th {\n",
       "        text-align: right;\n",
       "    }\n",
       "</style>\n",
       "<table border=\"1\" class=\"dataframe\">\n",
       "  <thead>\n",
       "    <tr style=\"text-align: right;\">\n",
       "      <th></th>\n",
       "      <th>job_seniority</th>\n",
       "      <th>Count</th>\n",
       "    </tr>\n",
       "  </thead>\n",
       "  <tbody>\n",
       "    <tr>\n",
       "      <th>0</th>\n",
       "      <td>Director</td>\n",
       "      <td>17889</td>\n",
       "    </tr>\n",
       "    <tr>\n",
       "      <th>1</th>\n",
       "      <td>Vice President</td>\n",
       "      <td>15172</td>\n",
       "    </tr>\n",
       "    <tr>\n",
       "      <th>2</th>\n",
       "      <td>Manager</td>\n",
       "      <td>11622</td>\n",
       "    </tr>\n",
       "    <tr>\n",
       "      <th>3</th>\n",
       "      <td>Individual Contributor</td>\n",
       "      <td>6843</td>\n",
       "    </tr>\n",
       "    <tr>\n",
       "      <th>4</th>\n",
       "      <td>Executive</td>\n",
       "      <td>6491</td>\n",
       "    </tr>\n",
       "  </tbody>\n",
       "</table>\n",
       "</div>"
      ],
      "text/plain": [
       "            job_seniority  Count\n",
       "0                Director  17889\n",
       "1          Vice President  15172\n",
       "2                 Manager  11622\n",
       "3  Individual Contributor   6843\n",
       "4               Executive   6491"
      ]
     },
     "execution_count": 14,
     "metadata": {},
     "output_type": "execute_result"
    }
   ],
   "source": [
    "qry3 = \"\"\"\n",
    "\n",
    "SELECT job_seniority, COUNT(job_seniority) AS Count FROM (\n",
    "SELECT ROW_NUMBER() OVER(PARTITION BY p.id ORDER BY p.id, t.touch_scheduled_on) AS RowNum,\n",
    "\t\tt.id,\n",
    "       t.person_id,\n",
    "       t.touch_scheduled_on,\n",
    "       t.status, \n",
    "       t.touch_type,\n",
    "       p.job_seniority,\n",
    "       co.id AS company_id,\n",
    "       co.industry       \n",
    "FROM touches t \n",
    "\tInner Join persons p ON p.id = (SELECT p.Id FROM persons p WHERE p.id = t.person_id ORDER BY p.id LIMIT 1)\n",
    "\tInner Join companies co ON co.id = (SELECT co.id FROM companies co WHERE co.id = p.company_id ORDER BY co.id LIMIT 1)\n",
    "ORDER BY co.id, t.id \n",
    ") t\n",
    "WHERE RowNum = 1\n",
    "GROUP BY job_seniority \n",
    "ORDER BY COUNT(job_seniority) DESC\n",
    "\n",
    "\"\"\"\n",
    "df3 = pd.read_sql_query(qry3, conn)\n",
    "\n",
    "# Verify that result of SQL query is stored in the dataframe\n",
    "# print(df.head(), df.tail(), df.describe())\n",
    "df3.head()"
   ]
  },
  {
   "cell_type": "code",
   "execution_count": 15,
   "metadata": {},
   "outputs": [
    {
     "data": {
      "image/png": "[encoded data removed]",
      "text/plain": [
       "<Figure size 936x648 with 1 Axes>"
      ]
     },
     "metadata": {},
     "output_type": "display_data"
    }
   ],
   "source": [
    "sns.set_theme(style=\"whitegrid\")\n",
    "plt.subplots(figsize = (13,9))\n",
    "sns.barplot(x=\"job_seniority\", y=\"Count\", data=df3, palette=\"Blues_d\");"
   ]
  },
  {
   "cell_type": "markdown",
   "metadata": {},
   "source": [
    "> Based on the distribution of the job seniorities of people that a seller will first try to contact within a company, a seller would start with Directors or upper level management. Note, Executives are 2nd to last, but there could be potential reasons to address this."
   ]
  },
  {
   "cell_type": "markdown",
   "metadata": {},
   "source": [
    "### Question 4. Describe the distribution of the mixture of job seniorities of people that a seller will touch during the entire engagement with a company.\n",
    "Keep in mind that you get to decide what “mixture” means, so do begin your answer by defining it - and explaining why you think this definition makes sense. Again, feel free to use whatever visuals, graphs, bunch of scores, tables, writeups etc. that you think is appropriate for this question.\n",
    "\n",
    "(Note: this question doesn't really have one right answer. It's more about your style of communicating the results.)"
   ]
  },
  {
   "cell_type": "code",
   "execution_count": 17,
   "metadata": {},
   "outputs": [
    {
     "data": {
      "text/html": [
       "<div>\n",
       "<style scoped>\n",
       "    .dataframe tbody tr th:only-of-type {\n",
       "        vertical-align: middle;\n",
       "    }\n",
       "\n",
       "    .dataframe tbody tr th {\n",
       "        vertical-align: top;\n",
       "    }\n",
       "\n",
       "    .dataframe thead th {\n",
       "        text-align: right;\n",
       "    }\n",
       "</style>\n",
       "<table border=\"1\" class=\"dataframe\">\n",
       "  <thead>\n",
       "    <tr style=\"text-align: right;\">\n",
       "      <th></th>\n",
       "      <th>industry</th>\n",
       "      <th>job_seniority</th>\n",
       "      <th>Mix_Count</th>\n",
       "    </tr>\n",
       "  </thead>\n",
       "  <tbody>\n",
       "    <tr>\n",
       "      <th>0</th>\n",
       "      <td>Internet Software &amp; Services</td>\n",
       "      <td>Director</td>\n",
       "      <td>79111</td>\n",
       "    </tr>\n",
       "    <tr>\n",
       "      <th>1</th>\n",
       "      <td>Internet Software &amp; Services</td>\n",
       "      <td>Vice President</td>\n",
       "      <td>77167</td>\n",
       "    </tr>\n",
       "    <tr>\n",
       "      <th>2</th>\n",
       "      <td>Internet Software &amp; Services</td>\n",
       "      <td>Manager</td>\n",
       "      <td>45551</td>\n",
       "    </tr>\n",
       "    <tr>\n",
       "      <th>3</th>\n",
       "      <td>Internet Software &amp; Services</td>\n",
       "      <td>Executive</td>\n",
       "      <td>28036</td>\n",
       "    </tr>\n",
       "    <tr>\n",
       "      <th>4</th>\n",
       "      <td>Internet Software &amp; Services</td>\n",
       "      <td>Individual Contributor</td>\n",
       "      <td>20169</td>\n",
       "    </tr>\n",
       "    <tr>\n",
       "      <th>5</th>\n",
       "      <td>Professional Services</td>\n",
       "      <td>Director</td>\n",
       "      <td>19279</td>\n",
       "    </tr>\n",
       "    <tr>\n",
       "      <th>6</th>\n",
       "      <td>Professional Services</td>\n",
       "      <td>Vice President</td>\n",
       "      <td>18037</td>\n",
       "    </tr>\n",
       "    <tr>\n",
       "      <th>7</th>\n",
       "      <td>Professional Services</td>\n",
       "      <td>Manager</td>\n",
       "      <td>9062</td>\n",
       "    </tr>\n",
       "    <tr>\n",
       "      <th>8</th>\n",
       "      <td>Internet Software &amp; Services</td>\n",
       "      <td>Unknown</td>\n",
       "      <td>7893</td>\n",
       "    </tr>\n",
       "    <tr>\n",
       "      <th>9</th>\n",
       "      <td>Professional Services</td>\n",
       "      <td>Executive</td>\n",
       "      <td>7288</td>\n",
       "    </tr>\n",
       "    <tr>\n",
       "      <th>10</th>\n",
       "      <td>Computer Software</td>\n",
       "      <td>Vice President</td>\n",
       "      <td>6560</td>\n",
       "    </tr>\n",
       "    <tr>\n",
       "      <th>11</th>\n",
       "      <td>Computer Software</td>\n",
       "      <td>Director</td>\n",
       "      <td>6531</td>\n",
       "    </tr>\n",
       "    <tr>\n",
       "      <th>12</th>\n",
       "      <td>Media</td>\n",
       "      <td>Director</td>\n",
       "      <td>5854</td>\n",
       "    </tr>\n",
       "    <tr>\n",
       "      <th>13</th>\n",
       "      <td>Consulting</td>\n",
       "      <td>Vice President</td>\n",
       "      <td>5712</td>\n",
       "    </tr>\n",
       "    <tr>\n",
       "      <th>14</th>\n",
       "      <td>Media</td>\n",
       "      <td>Vice President</td>\n",
       "      <td>4989</td>\n",
       "    </tr>\n",
       "    <tr>\n",
       "      <th>15</th>\n",
       "      <td>Technology</td>\n",
       "      <td>Vice President</td>\n",
       "      <td>4354</td>\n",
       "    </tr>\n",
       "    <tr>\n",
       "      <th>16</th>\n",
       "      <td>Professional Services</td>\n",
       "      <td>Individual Contributor</td>\n",
       "      <td>4325</td>\n",
       "    </tr>\n",
       "    <tr>\n",
       "      <th>17</th>\n",
       "      <td>Technology</td>\n",
       "      <td>Director</td>\n",
       "      <td>4206</td>\n",
       "    </tr>\n",
       "    <tr>\n",
       "      <th>18</th>\n",
       "      <td>Consulting</td>\n",
       "      <td>Director</td>\n",
       "      <td>3793</td>\n",
       "    </tr>\n",
       "    <tr>\n",
       "      <th>19</th>\n",
       "      <td>Computer Software</td>\n",
       "      <td>Manager</td>\n",
       "      <td>3783</td>\n",
       "    </tr>\n",
       "  </tbody>\n",
       "</table>\n",
       "</div>"
      ],
      "text/plain": [
       "                        industry           job_seniority  Mix_Count\n",
       "0   Internet Software & Services                Director      79111\n",
       "1   Internet Software & Services          Vice President      77167\n",
       "2   Internet Software & Services                 Manager      45551\n",
       "3   Internet Software & Services               Executive      28036\n",
       "4   Internet Software & Services  Individual Contributor      20169\n",
       "5          Professional Services                Director      19279\n",
       "6          Professional Services          Vice President      18037\n",
       "7          Professional Services                 Manager       9062\n",
       "8   Internet Software & Services                 Unknown       7893\n",
       "9          Professional Services               Executive       7288\n",
       "10             Computer Software          Vice President       6560\n",
       "11             Computer Software                Director       6531\n",
       "12                         Media                Director       5854\n",
       "13                    Consulting          Vice President       5712\n",
       "14                         Media          Vice President       4989\n",
       "15                    Technology          Vice President       4354\n",
       "16         Professional Services  Individual Contributor       4325\n",
       "17                    Technology                Director       4206\n",
       "18                    Consulting                Director       3793\n",
       "19             Computer Software                 Manager       3783"
      ]
     },
     "execution_count": 17,
     "metadata": {},
     "output_type": "execute_result"
    }
   ],
   "source": [
    "qry4 = \"\"\"\n",
    "\n",
    "SELECT industry, job_seniority, COUNT(job_seniority) AS Mix_Count FROM (\n",
    "    SELECT ROW_NUMBER() OVER(PARTITION BY co.id ORDER BY co.id , t.touch_scheduled_on) AS RowNum,\n",
    "    t.id,\n",
    "    t.person_id,\n",
    "    t.touch_scheduled_on,\n",
    "    t.status, \n",
    "    t.touch_type,\n",
    "    p.job_seniority, \n",
    "    co.id AS company_id,\n",
    "    co.industry       \n",
    "    FROM touches t \n",
    "        Inner Join persons p ON p.id = (SELECT p.Id FROM persons p WHERE p.id = t.person_id ORDER BY p.id LIMIT 1)\n",
    "        Inner Join companies co ON co.id = (SELECT co.id FROM companies co WHERE co.id = p.company_id AND co.industry != '' ORDER BY co.id LIMIT 1)\n",
    "    ORDER BY co.id, t.id\n",
    ") t\n",
    "GROUP BY industry, job_seniority\n",
    "ORDER BY COUNT(job_seniority) DESC, industry\n",
    "\n",
    "\"\"\"\n",
    "\n",
    "df4 = pd.read_sql_query(qry4, conn)"
   ]
  },
  {
   "cell_type": "code",
   "execution_count": 49,
   "metadata": {},
   "outputs": [
    {
     "data": {
      "text/plain": [
       "<AxesSubplot:xlabel='job_seniority', ylabel='Mix_Count'>"
      ]
     },
     "execution_count": 49,
     "metadata": {},
     "output_type": "execute_result"
    },
    {
     "data": {
      "image/png": "[encoded data removed]",
      "text/plain": [
       "<Figure size 1800x1080 with 2 Axes>"
      ]
     },
     "metadata": {},
     "output_type": "display_data"
    }
   ],
   "source": [
    "# df4[:50].head(50).plot(x=\"industry\", y=\"Mix_Count\", figsize=(13,7) , kind=\"line\")\n",
    "\n",
    "fig = plt.figure(figsize=(25, 15))\n",
    "\n",
    "ax1 = fig.add_subplot(221)\n",
    "sns.lineplot(x=\"industry\", y=\"Mix_Count\", data=df4[:20])\n",
    "\n",
    "ax2 = fig.add_subplot(222)\n",
    "sns.barplot(x=\"job_seniority\", y=\"Mix_Count\", data=df4)\n"
   ]
  },
  {
   "cell_type": "code",
   "execution_count": 50,
   "metadata": {},
   "outputs": [
    {
     "name": "stdout",
     "output_type": "stream",
     "text": [
      "<class 'pandas.core.frame.DataFrame'>\n",
      "RangeIndex: 1186 entries, 0 to 1185\n",
      "Data columns (total 3 columns):\n",
      " #   Column         Non-Null Count  Dtype \n",
      "---  ------         --------------  ----- \n",
      " 0   industry       1186 non-null   object\n",
      " 1   job_seniority  1186 non-null   object\n",
      " 2   Mix_Count      1186 non-null   int64 \n",
      "dtypes: int64(1), object(2)\n",
      "memory usage: 27.9+ KB\n"
     ]
    }
   ],
   "source": [
    "df4.info()"
   ]
  },
  {
   "cell_type": "code",
   "execution_count": 51,
   "metadata": {},
   "outputs": [
    {
     "data": {
      "text/plain": [
       "(6,\n",
       " array(['Director', 'Vice President', 'Manager', 'Executive',\n",
       "        'Individual Contributor', 'Unknown'], dtype=object))"
      ]
     },
     "execution_count": 51,
     "metadata": {},
     "output_type": "execute_result"
    }
   ],
   "source": [
    "df4.job_seniority.nunique(), df4.job_seniority.unique()"
   ]
  },
  {
   "cell_type": "code",
   "execution_count": 57,
   "metadata": {},
   "outputs": [
    {
     "data": {
      "text/plain": [
       "(Director                  229\n",
       " Vice President            221\n",
       " Manager                   210\n",
       " Executive                 195\n",
       " Individual Contributor    184\n",
       " Unknown                   147\n",
       " Name: job_seniority, dtype: int64,\n",
       " Manufacturing - Durables               6\n",
       " Healthcare                             6\n",
       " Wholesale                              6\n",
       " Food Products                          6\n",
       " Diversified Financial Services         6\n",
       "                                       ..\n",
       " Wireless Telecommunication Services    1\n",
       " Telecommunication Equipment            1\n",
       " Minerals & Mining                      1\n",
       " Agriculture                            1\n",
       " Not For Profit                         1\n",
       " Name: industry, Length: 257, dtype: int64)"
      ]
     },
     "execution_count": 57,
     "metadata": {},
     "output_type": "execute_result"
    }
   ],
   "source": [
    "df4.job_seniority.value_counts(), df4.industry.value_counts(sort='True')"
   ]
  },
  {
   "cell_type": "code",
   "execution_count": 65,
   "metadata": {},
   "outputs": [],
   "source": [
    "group_mix = df4.groupby(['industry', 'job_seniority', 'Mix_Count'])"
   ]
  },
  {
   "cell_type": "code",
   "execution_count": 66,
   "metadata": {},
   "outputs": [
    {
     "data": {
      "text/html": [
       "<div>\n",
       "<style scoped>\n",
       "    .dataframe tbody tr th:only-of-type {\n",
       "        vertical-align: middle;\n",
       "    }\n",
       "\n",
       "    .dataframe tbody tr th {\n",
       "        vertical-align: top;\n",
       "    }\n",
       "\n",
       "    .dataframe thead th {\n",
       "        text-align: right;\n",
       "    }\n",
       "</style>\n",
       "<table border=\"1\" class=\"dataframe\">\n",
       "  <thead>\n",
       "    <tr style=\"text-align: right;\">\n",
       "      <th></th>\n",
       "      <th>industry</th>\n",
       "      <th>job_seniority</th>\n",
       "      <th>Mix_Count</th>\n",
       "    </tr>\n",
       "  </thead>\n",
       "  <tbody>\n",
       "    <tr>\n",
       "      <th>0</th>\n",
       "      <td>Internet Software &amp; Services</td>\n",
       "      <td>Director</td>\n",
       "      <td>79111</td>\n",
       "    </tr>\n",
       "    <tr>\n",
       "      <th>1</th>\n",
       "      <td>Internet Software &amp; Services</td>\n",
       "      <td>Vice President</td>\n",
       "      <td>77167</td>\n",
       "    </tr>\n",
       "    <tr>\n",
       "      <th>2</th>\n",
       "      <td>Internet Software &amp; Services</td>\n",
       "      <td>Manager</td>\n",
       "      <td>45551</td>\n",
       "    </tr>\n",
       "    <tr>\n",
       "      <th>3</th>\n",
       "      <td>Internet Software &amp; Services</td>\n",
       "      <td>Executive</td>\n",
       "      <td>28036</td>\n",
       "    </tr>\n",
       "    <tr>\n",
       "      <th>4</th>\n",
       "      <td>Internet Software &amp; Services</td>\n",
       "      <td>Individual Contributor</td>\n",
       "      <td>20169</td>\n",
       "    </tr>\n",
       "    <tr>\n",
       "      <th>...</th>\n",
       "      <td>...</td>\n",
       "      <td>...</td>\n",
       "      <td>...</td>\n",
       "    </tr>\n",
       "    <tr>\n",
       "      <th>1181</th>\n",
       "      <td>Online Media</td>\n",
       "      <td>Individual Contributor</td>\n",
       "      <td>1</td>\n",
       "    </tr>\n",
       "    <tr>\n",
       "      <th>1182</th>\n",
       "      <td>Plastic, Packaging &amp; Containers</td>\n",
       "      <td>Executive</td>\n",
       "      <td>1</td>\n",
       "    </tr>\n",
       "    <tr>\n",
       "      <th>1183</th>\n",
       "      <td>Religious Organizations</td>\n",
       "      <td>Vice President</td>\n",
       "      <td>1</td>\n",
       "    </tr>\n",
       "    <tr>\n",
       "      <th>1184</th>\n",
       "      <td>Semiconductors</td>\n",
       "      <td>Vice President</td>\n",
       "      <td>1</td>\n",
       "    </tr>\n",
       "    <tr>\n",
       "      <th>1185</th>\n",
       "      <td>Textiles, Apparel &amp; Luxury Goods</td>\n",
       "      <td>Executive</td>\n",
       "      <td>1</td>\n",
       "    </tr>\n",
       "  </tbody>\n",
       "</table>\n",
       "<p>1186 rows × 3 columns</p>\n",
       "</div>"
      ],
      "text/plain": [
       "                              industry           job_seniority  Mix_Count\n",
       "0         Internet Software & Services                Director      79111\n",
       "1         Internet Software & Services          Vice President      77167\n",
       "2         Internet Software & Services                 Manager      45551\n",
       "3         Internet Software & Services               Executive      28036\n",
       "4         Internet Software & Services  Individual Contributor      20169\n",
       "...                                ...                     ...        ...\n",
       "1181                      Online Media  Individual Contributor          1\n",
       "1182   Plastic, Packaging & Containers               Executive          1\n",
       "1183           Religious Organizations          Vice President          1\n",
       "1184                    Semiconductors          Vice President          1\n",
       "1185  Textiles, Apparel & Luxury Goods               Executive          1\n",
       "\n",
       "[1186 rows x 3 columns]"
      ]
     },
     "execution_count": 66,
     "metadata": {},
     "output_type": "execute_result"
    }
   ],
   "source": [
    "group_mix.head()"
   ]
  },
  {
   "cell_type": "code",
   "execution_count": null,
   "metadata": {},
   "outputs": [],
   "source": [
    "group_dist = df4[:]"
   ]
  },
  {
   "cell_type": "code",
   "execution_count": null,
   "metadata": {},
   "outputs": [],
   "source": [
    "group_dist.drop(['id', 'person_id', 'touch_scheduled_on'], axis=1, inplace=True)"
   ]
  },
  {
   "cell_type": "code",
   "execution_count": 77,
   "metadata": {},
   "outputs": [
    {
     "data": {
      "text/plain": [
       "<matplotlib.legend.Legend at 0x25b6c86f208>"
      ]
     },
     "execution_count": 77,
     "metadata": {},
     "output_type": "execute_result"
    },
    {
     "data": {
      "image/png": "[encoded data removed]",
      "text/plain": [
       "<Figure size 1800x936 with 1 Axes>"
      ]
     },
     "metadata": {},
     "output_type": "display_data"
    }
   ],
   "source": [
    "plt.figure(figsize=(25, 13))\n",
    "sns.set_style(\"darkgrid\")\n",
    "p = sns.barplot(x=\"industry\", y=\"Mix_Count\", hue=\"job_seniority\", data=df4[:25])\n",
    "p.set_xlabel(\"Industry\", fontsize = 20)\n",
    "p.set_ylabel(\"Job Seniority Mix Count\", fontsize = 20)\n",
    "plt.title(\"Job Seniority Mix by Top Industries\", fontsize = 25)\n",
    "plt.legend(loc='center right', bbox_to_anchor=(1.2, 0.5), ncol=1, fontsize=15)"
   ]
  },
  {
   "cell_type": "markdown",
   "metadata": {},
   "source": [
    "> Here we define \"mixture\" as the job seniorities or titles of people within an organization that a seller will touch during the entire engagement with a company. The above graph shows that a seller would start with Directors and Vice Presidentsof a company when observing the top industries that are being touched on."
   ]
  },
  {
   "cell_type": "code",
   "execution_count": 83,
   "metadata": {},
   "outputs": [
    {
     "name": "stderr",
     "output_type": "stream",
     "text": [
      "C:\\Users\\larry\\anaconda3\\envs\\test_env\\lib\\site-packages\\seaborn\\distributions.py:2557: FutureWarning:\n",
      "\n",
      "`distplot` is a deprecated function and will be removed in a future version. Please adapt your code to use either `displot` (a figure-level function with similar flexibility) or `histplot` (an axes-level function for histograms).\n",
      "\n"
     ]
    },
    {
     "data": {
      "text/plain": [
       "<AxesSubplot:xlabel='Mix_Count', ylabel='Density'>"
      ]
     },
     "execution_count": 83,
     "metadata": {},
     "output_type": "execute_result"
    },
    {
     "data": {
      "image/png": "[encoded data removed]",
      "text/plain": [
       "<Figure size 1800x1080 with 1 Axes>"
      ]
     },
     "metadata": {},
     "output_type": "display_data"
    }
   ],
   "source": [
    "fig = plt.figure(figsize=(25, 15))\n",
    "sns.distplot(df4[\"Mix_Count\"][:30])"
   ]
  },
  {
   "cell_type": "markdown",
   "metadata": {},
   "source": [
    "### Question 5. Build an algorithm that, when a seller is about to contact a company it never reached out to before, recommends the best/optimal mixture of job seniorities (with “mixture” as defined by you in Question 4.) they should be targeting within that company during the entire engagement.\n",
    "\n",
    "This is the hardest question in this exercise. If you feel you have a good idea what the algorithm should look like but either feel uncomfortable coding-wise or feel pressed for time, it is perfectly OK to describe your idea in words. Be clear, explain both what it does and why you think this is the right approach.\n",
    "\n",
    "Whether or not you go the code-route or writeup-route, be sure to explain the assumptions and choices you made, why you made them and how you would test them.\n",
    "\n",
    "(Note: like with the previous two questions, this question doesn't really have one right answer either!)"
   ]
  },
  {
   "cell_type": "markdown",
   "metadata": {},
   "source": [
    "> To address this question, I would build an algorithm that would use a model to predict which job seniority/person to touch on based prior engagements within a company in a specific industry. I would also incorporate into the logic the touch status and opportunities to measure the success of an engagement. The algorithm would then predict and recommend the best/optimal mixture of job seniorities a seller should target during the entire engagement. "
   ]
  },
  {
   "cell_type": "code",
   "execution_count": 84,
   "metadata": {},
   "outputs": [],
   "source": [
    "conn.close()"
   ]
  }
 ],
 "metadata": {
  "kernelspec": {
   "display_name": "Python 3",
   "language": "python",
   "name": "python3"
  },
  "language_info": {
   "codemirror_mode": {
    "name": "ipython",
    "version": 3
   },
   "file_extension": ".py",
   "mimetype": "text/x-python",
   "name": "python",
   "nbconvert_exporter": "python",
   "pygments_lexer": "ipython3",
   "version": "3.7.10"
  }
 },
 "nbformat": 4,
 "nbformat_minor": 2
}
