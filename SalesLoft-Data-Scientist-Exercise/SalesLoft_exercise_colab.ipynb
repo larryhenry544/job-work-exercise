{
 "cells": [
  {
   "cell_type": "markdown",
   "metadata": {
    "id": "uLSeUgQiRQbt"
   },
   "source": [
    "# Data Scientist Interview Offline Exercise\n",
    "\n",
    "## Instructions\n",
    "1. Before you begin working on the exercise, be sure to go over the [Data Explanation](#data-explanation) section below. We would advise reading the [Additional Notes](#additional-notes) section as well.\n",
    "2. The Jupyter notebook `exercise.ipynb` has all the questions (5 in total) for the exercise. You should use the same notebook as the primary space for your answers. The data to be used for answering the questions is in the `touches.sqlite3` file. Make sure to **not** commit your answers to this repo, but instead copy-paste the notebook and the sqlite3 file into a different folder, type your answers in the copied Jupyter notebook and then send the notebook over to the recruiter or upload it to Greenhouse (you do not need to send back or upload the sqlite3 file).\n",
    "3. You’re welcome to use whatever Python libraries and packages you love. You’re also welcome to write your own Python libraries and modules and import them into the notebook - just make sure to send that extra code in as well.\n",
    "4. If you’re not confident with your Python skills, write the answers separately in your favorite language - and then send that code as well. Even if you choose this option, use the Jupyter notebook to explain your work and document where to find that code. If your work involves charts and graphs, send them as well and document in the notebook where they are and what they represent. If your work involves SQL queries, you can just write down the query in the notebook in a markdown to show us what you did.\n",
    "5. Within the Jupyter notebook, make sure to use markdowns and comments liberally to explain what you’re doing and why. We care more about *how* you answer a question than what the correct answer is. We also love good communicators!\n",
    "6. The 5 questions build up from easy to hard. Please spend the amount of time on it you feel is reasonable. We estimate the first four questions will take 1-2 hours to solve in total. The last question could take anywhere between half-an-hour and several hours depending on how much in depth you want to go with it.\n",
    "7. **IMPORTANT**: If you're applying for an Associate Data Scientist position, you only need to complete questions 1, 2 and 3. If you're applying for a Senior Data Scientist position, not completing all of the questions will put you at a disadvantage for the next steps.\n",
    "8. **PRO TIP**: Throughout the exercise, using smarter and more efficient SQL queries than just `\"SELECT * FROM <table>;\"` will put you at an advantage among candidates."
   ]
  },
  {
   "cell_type": "markdown",
   "metadata": {
    "id": "zE-PGx0cTXxI"
   },
   "source": [
    "## Data Explanation\n",
    "If you're a data scientist, you must have seen the oft-cited Venn diagram with a circle for Math/Stat, another for Programming/Algorithms and a third one for Business Domain. At SalesLoft, we believe you cannot be a good data scientist if you do not make a meaningful effort in understanding the domain. This section is to explain a little bit of the business domain to you, particularly as it pertains to this exercise.\n",
    "\n",
    "Sellers use our platform to get in touch with their prospective customers. They do that by executing a series of touches (like email, call etc.) to contact people working in companies that they're targeting. Sometimes, the people they are contacting go cold and do not respond at all - they do not reply to emails or pick up phone calls. Sometimes, even if they do respond, they are not the right people and/or do not have leverage. Yet others are interested in the sales pitch they hear and want to move forward. When that happens, an opportunity gets created and the sellers begin understanding the prospective customer's pain points, their business space etc. and evaluate if they fit an ideal customer profile. Simultaneously, they also negotiate on various terms of the contract. When the customer finally signs the contract, the opportunity ends in a \"Closed Won\" stage, whereas if the deal dies then the opportunity ends in \"Closed Lost\" (like if negotiations failed or if the company went with a competitor) or \"Disqualified\" (like if the company did not fit the ideal customer profile).\n",
    "\n",
    "In the SQLite database we have provided (`touches.sqlite3`), you will find four tables - `companies`, `persons`, `touches` and `opportunities`. Every table has an `id` column that is referenced in some other tables (like the `id` column in `companies` is linked to the `company_id` column in `persons`). You can pretend that this is data from a hypothetical sales team using SalesLoft.\n",
    "- the `companies` table records all the prospective customer companies that this team has targeted or plans to target in the future\n",
    "- the `persons` table records information about people working at those companies.\n",
    "- the `touches` table records information about the various times of contact and types of touches that were scheduled to be executed against people the team is targeting. When the column `status` in the table has the value 'completed', this means that the touch was executed (like email was sent or call was made).\n",
    "- the `opportunities` table records all the opportunities that this hypothetical sales team has been able to create. When the `latest_stage` column is 'Closed Won', it represents that a deal was successfully signed with that specific company. When the `latest stage` is 'Closed Lost' or 'Disqualified', it represents that the opportunity was in the end unsuccessful. All other values of `latest_stage` indicate that the opportunity is still in flight and still being worked on.\n",
    "\n",
    "## Additional Notes\n",
    "The data we are giving you is in the `touches.sqlite3` file. If you are unfamiliar with this type of file format, check out the following:\n",
    "- You can use an online viewer [SQLite Viewer](https://inloop.github.io/sqlite-viewer/) or a Mac app such as [Sqlite Browser](https://sqlitebrowser.org/) to view the tables in the database, search them etc.\n",
    "- Some database management tools, such as TablePlus, will happily open that file for you and let you query its tables. This is not super necessary, though, as you can query it through Python.\n",
    "- If you code in Python but have never used SQLite before, check out [Python's API interface for SQLite databases](https://docs.python.org/3.8/library/sqlite3.html). You can safely use it with [the pandas read_sql function](https://pandas.pydata.org/pandas-docs/stable/reference/api/pandas.read_sql.html)."
   ]
  },
  {
   "cell_type": "markdown",
   "metadata": {
    "id": "vMCTb4iz9rGY"
   },
   "source": [
    "# Offline Exercise\n",
    "\n",
    "This notebook has the questions and instructions for the offline exercise. If you haven't already, please go through the `README.md` file before you begin answering the questions here.\n",
    "\n",
    "Make sure you do NOT commit your answers back to the repo. Instead, copy-paste this notebook together with the `touches.sqlite3` file to a separate folder in your machine, type your answers in that copied notebook, and when you're done, share the new Jupyter notebook back with the recruiter together with additional modules, graphs etc. that you may have. You would need to use the data in the `touches.sqlite3` file to answer all the questions."
   ]
  },
  {
   "cell_type": "markdown",
   "metadata": {
    "id": "RhI3uKFn9rGf"
   },
   "source": [
    "### Question 1. Find the most common industry out of all the companies that were `contacted`."
   ]
  },
  {
   "cell_type": "markdown",
   "metadata": {
    "id": "q0-QfdrQt1wQ"
   },
   "source": []
  },
  {
   "cell_type": "code",
   "execution_count": 3,
   "metadata": {
    "id": "sO5JOeUCAMdl"
   },
   "outputs": [],
   "source": [
    "import sqlite3\n",
    "from sqlite3 import Error\n",
    "import pandas as pd"
   ]
  },
  {
   "cell_type": "code",
   "execution_count": 4,
   "metadata": {
    "colab": {
     "base_uri": "https://localhost:8080/"
    },
    "id": "gX797KbNGPNK",
    "outputId": "ab735654-9653-45d8-bf6c-606da6507bc2"
   },
   "outputs": [
    {
     "name": "stdout",
     "output_type": "stream",
     "text": [
      "Mounted at /content/gdrive\n"
     ]
    }
   ],
   "source": [
    "from google.colab import drive, files\n",
    "drive.mount('/content/gdrive')"
   ]
  },
  {
   "cell_type": "code",
   "execution_count": 5,
   "metadata": {
    "colab": {
     "base_uri": "https://localhost:8080/"
    },
    "id": "ZLJf9jcbGxGq",
    "outputId": "83f24952-159e-4f36-d4fa-b46dc8b98461"
   },
   "outputs": [
    {
     "name": "stdout",
     "output_type": "stream",
     "text": [
      "Files in Drive: \n",
      "SalesLoft-exercise.ipynb  touches.sqlite3\n"
     ]
    }
   ],
   "source": [
    "print (\"Files in Drive: \")\n",
    "\n",
    "# !ls 'gdrive/MyDrive/Colab Notebooks/Udemy/TensorFlow Developer Certificate in 2021: Zero to Mastery'\n",
    "!ls 'gdrive/MyDrive/Colab Notebooks/Job Exercises/'"
   ]
  },
  {
   "cell_type": "code",
   "execution_count": 6,
   "metadata": {
    "id": "qUH3g_rYAFT1"
   },
   "outputs": [],
   "source": [
    "def create_connection(db_file):\n",
    "    \"\"\" \n",
    "    create a database connection to the SQLite database specified by the db_file\n",
    "      :param db_file: database file\n",
    "      :return: Connection object or None\n",
    "    \"\"\"\n",
    "    conn = None\n",
    "    try:\n",
    "        conn = sqlite3.connect(db_file)\n",
    "    except Error as error:\n",
    "        print(\"Failed to connect to database file - \", error)\n",
    "\n",
    "    return conn"
   ]
  },
  {
   "cell_type": "code",
   "execution_count": 7,
   "metadata": {
    "id": "wbLqHL1TkLop"
   },
   "outputs": [],
   "source": [
    "database = r\"/content/gdrive/MyDrive/Colab Notebooks/Job Exercises/touches.sqlite3\"\n",
    "\n",
    "# creating a database connection\n",
    "conn = create_connection(database)"
   ]
  },
  {
   "cell_type": "code",
   "execution_count": 8,
   "metadata": {
    "id": "W1lVwrEBkYI1"
   },
   "outputs": [],
   "source": [
    "cur = conn.cursor()"
   ]
  },
  {
   "cell_type": "code",
   "execution_count": 10,
   "metadata": {
    "colab": {
     "base_uri": "https://localhost:8080/"
    },
    "id": "ijFx52VDke-h",
    "outputId": "6fdc1bef-ec15-4532-c848-4ec26c7fa986"
   },
   "outputs": [
    {
     "data": {
      "text/plain": [
       "<sqlite3.Cursor at 0x7fb31e06eea0>"
      ]
     },
     "execution_count": 10,
     "metadata": {},
     "output_type": "execute_result"
    }
   ],
   "source": [
    "cur.execute(\"\"\"\n",
    "\n",
    "SELECT co.id AS CompanyID\n",
    "\t, co.industry\n",
    "\t, COUNT(DISTINCT co.id) AS Record_Count\n",
    "FROM companies co\n",
    "INNER JOIN persons p \n",
    "\tON p.company_id = co.id\n",
    "\t\tAND p.job_seniority NOT IN ('Individual Contributor', 'Unknown')\n",
    "INNER JOIN touches t \n",
    "\tON t.person_id = p.id\n",
    "\t\tAND t.STATUS = 'completed'\n",
    "WHERE co.industry != ''\n",
    "GROUP BY co.industry\n",
    "ORDER BY Record_Count DESC \n",
    "LIMIT 0,10;\n",
    "\n",
    "\"\"\")"
   ]
  },
  {
   "cell_type": "code",
   "execution_count": 11,
   "metadata": {
    "colab": {
     "base_uri": "https://localhost:8080/"
    },
    "id": "e4zmHr2ykr_Y",
    "outputId": "9877f0a4-d792-4b3a-c493-db7b0e3cc612"
   },
   "outputs": [
    {
     "name": "stdout",
     "output_type": "stream",
     "text": [
      "[(3139, 'Internet Software & Services', 3502), (1028, 'Professional Services', 999), (2632, 'Consulting', 422), (7897, 'Computer Software', 374), (10068, 'Technology', 359), (8221, 'Media', 271), (8170, 'Financial Services', 260), (2363, 'Internet', 183), (5370, 'IT Services', 87), (14381, 'Finance', 86)]\n"
     ]
    }
   ],
   "source": [
    "results = cur.fetchall()\n",
    "print(results)"
   ]
  },
  {
   "cell_type": "code",
   "execution_count": 12,
   "metadata": {
    "colab": {
     "base_uri": "https://localhost:8080/",
     "height": 204
    },
    "id": "-n4pEMae9rGg",
    "outputId": "b4cc1bf1-e6be-4c84-9ebd-3b24aca981d0"
   },
   "outputs": [
    {
     "data": {
      "text/html": [
       "<div>\n",
       "<style scoped>\n",
       "    .dataframe tbody tr th:only-of-type {\n",
       "        vertical-align: middle;\n",
       "    }\n",
       "\n",
       "    .dataframe tbody tr th {\n",
       "        vertical-align: top;\n",
       "    }\n",
       "\n",
       "    .dataframe thead th {\n",
       "        text-align: right;\n",
       "    }\n",
       "</style>\n",
       "<table border=\"1\" class=\"dataframe\">\n",
       "  <thead>\n",
       "    <tr style=\"text-align: right;\">\n",
       "      <th></th>\n",
       "      <th>CompanyID</th>\n",
       "      <th>industry</th>\n",
       "      <th>Record_Count</th>\n",
       "    </tr>\n",
       "  </thead>\n",
       "  <tbody>\n",
       "    <tr>\n",
       "      <th>0</th>\n",
       "      <td>3139</td>\n",
       "      <td>Internet Software &amp; Services</td>\n",
       "      <td>3502</td>\n",
       "    </tr>\n",
       "    <tr>\n",
       "      <th>1</th>\n",
       "      <td>1028</td>\n",
       "      <td>Professional Services</td>\n",
       "      <td>999</td>\n",
       "    </tr>\n",
       "    <tr>\n",
       "      <th>2</th>\n",
       "      <td>2632</td>\n",
       "      <td>Consulting</td>\n",
       "      <td>422</td>\n",
       "    </tr>\n",
       "    <tr>\n",
       "      <th>3</th>\n",
       "      <td>7897</td>\n",
       "      <td>Computer Software</td>\n",
       "      <td>374</td>\n",
       "    </tr>\n",
       "    <tr>\n",
       "      <th>4</th>\n",
       "      <td>10068</td>\n",
       "      <td>Technology</td>\n",
       "      <td>359</td>\n",
       "    </tr>\n",
       "  </tbody>\n",
       "</table>\n",
       "</div>"
      ],
      "text/plain": [
       "   CompanyID                      industry  Record_Count\n",
       "0       3139  Internet Software & Services          3502\n",
       "1       1028         Professional Services           999\n",
       "2       2632                    Consulting           422\n",
       "3       7897             Computer Software           374\n",
       "4      10068                    Technology           359"
      ]
     },
     "execution_count": 12,
     "metadata": {},
     "output_type": "execute_result"
    }
   ],
   "source": [
    "qry = \"\"\"\n",
    "\n",
    "SELECT co.id AS CompanyID\n",
    "\t, co.industry\n",
    "\t, COUNT(DISTINCT co.id) AS Record_Count\n",
    "FROM companies co\n",
    "INNER JOIN persons p \n",
    "\tON p.company_id = co.id\n",
    "\t\tAND p.job_seniority NOT IN ('Individual Contributor', 'Unknown')\n",
    "INNER JOIN touches t \n",
    "\tON t.person_id = p.id\n",
    "\t\tAND t.STATUS = 'completed'\n",
    "WHERE co.industry != ''\n",
    "GROUP BY co.industry\n",
    "ORDER BY Record_Count DESC \n",
    "LIMIT 0,10;\n",
    "\n",
    "\"\"\"\n",
    "# df = pd.read_sql_query(\"SELECT * from companies\", conn)\n",
    "df = pd.read_sql_query(qry, conn)\n",
    "\n",
    "# Verify that result of SQL query is stored in the dataframe\n",
    "# print(df.head(), df.tail(), df.describe())\n",
    "df.head()\n",
    "\n",
    "# conn.close()"
   ]
  },
  {
   "cell_type": "code",
   "execution_count": 13,
   "metadata": {
    "colab": {
     "base_uri": "https://localhost:8080/"
    },
    "id": "2ELY4lQtxHoI",
    "outputId": "9f53538a-0cc1-4d3f-e84b-f76175fa6805"
   },
   "outputs": [
    {
     "name": "stdout",
     "output_type": "stream",
     "text": [
      "Internet Software & Services is the most common industry out of all the companies that were contacted.\n"
     ]
    }
   ],
   "source": [
    "print(f\"{df.iloc[0][1]} is the most common industry out of all the companies that were contacted.\")"
   ]
  },
  {
   "cell_type": "code",
   "execution_count": null,
   "metadata": {
    "id": "qPJDt2JE9rGf"
   },
   "outputs": [],
   "source": [
    "database = r\"C:\\Users\\larry\\OneDrive\\Documents\\My Projects\\Work Exercise\\job-work-exercise\\SalesLoft-Data-Scientist-Exercise\\touches.sqlite3\"\n",
    "\n",
    "# creating a database connection\n",
    "conn = create_connection(database)\n",
    "with conn:\n",
    "    print(\"1. Query task by priority:\")\n",
    "    select_task_by_priority(conn, 1)\n",
    "\n",
    "    print(\"2. Query all tasks\")\n",
    "    select_all_tasks(conn)"
   ]
  },
  {
   "cell_type": "code",
   "execution_count": null,
   "metadata": {
    "id": "O7Hc3_6ha5kW"
   },
   "outputs": [],
   "source": [
    "def pushtoDB(Name, Mobile, Mail):\n",
    "  \"\"\"\n",
    "  Inserting values into the cerated table\n",
    "  \"\"\"\n",
    "  db = sqlite3.connect(\"testing.db\")\n",
    "  from datetime import date \n",
    "  Date = date.today().strftime(\"%m-%d-%Y\")\n",
    "  cmd = \"INSERT INTO Results(Name, Mobile, Date, Mail) VALUES('{}', '{}', '{}', '{}')\".format(Name, Mobile, Date, Mail)\n",
    "  db.execute(cmd)\n",
    "  db.commit()"
   ]
  },
  {
   "cell_type": "code",
   "execution_count": null,
   "metadata": {
    "id": "LpmCBiEh9rGh"
   },
   "outputs": [],
   "source": [
    "for i in range(0, len(data)):\n",
    "  pushtoDB(data.iloc[i][0].data.iloc[i][1].data.iloc[i][2])"
   ]
  },
  {
   "cell_type": "code",
   "execution_count": null,
   "metadata": {
    "id": "S7JB1NpwaYyr"
   },
   "outputs": [],
   "source": [
    "db = sqlite3.connect(\"testing.db\")\n",
    "qry = \"\"\"\n",
    "SELECT * FROM results WHERE Name='TestDemo'\n",
    "\"\"\"\n",
    "df.pd.read_sql_query(qry, db)\n",
    "df.head()"
   ]
  },
  {
   "cell_type": "code",
   "execution_count": 14,
   "metadata": {
    "id": "g4lu_hwQjwHs"
   },
   "outputs": [],
   "source": [
    "cur.close()\n",
    "conn.close()"
   ]
  },
  {
   "cell_type": "markdown",
   "metadata": {
    "id": "foSCCIdT9rGh"
   },
   "source": [
    "### Question 2. What is the most common touch type sellers use when they’re making their first touch with a person? What about first touch with a company?"
   ]
  },
  {
   "cell_type": "code",
   "execution_count": 1,
   "metadata": {
    "colab": {
     "base_uri": "https://localhost:8080/"
    },
    "id": "yugtcotBYojS",
    "outputId": "b0c0eba7-6099-460e-c4f9-62cab6fd1bbf"
   },
   "outputs": [
    {
     "name": "stdout",
     "output_type": "stream",
     "text": [
      "Requirement already satisfied: ipython-sql in /usr/local/lib/python3.7/dist-packages (0.3.9)\n",
      "Requirement already satisfied: sqlparse in /usr/local/lib/python3.7/dist-packages (from ipython-sql) (0.4.2)\n",
      "Requirement already satisfied: sqlalchemy>=0.6.7 in /usr/local/lib/python3.7/dist-packages (from ipython-sql) (1.4.25)\n",
      "Requirement already satisfied: ipython>=1.0 in /usr/local/lib/python3.7/dist-packages (from ipython-sql) (5.5.0)\n",
      "Requirement already satisfied: ipython-genutils>=0.1.0 in /usr/local/lib/python3.7/dist-packages (from ipython-sql) (0.2.0)\n",
      "Requirement already satisfied: six in /usr/local/lib/python3.7/dist-packages (from ipython-sql) (1.15.0)\n",
      "Requirement already satisfied: prettytable in /usr/local/lib/python3.7/dist-packages (from ipython-sql) (2.2.1)\n",
      "Requirement already satisfied: pygments in /usr/local/lib/python3.7/dist-packages (from ipython>=1.0->ipython-sql) (2.6.1)\n",
      "Requirement already satisfied: prompt-toolkit<2.0.0,>=1.0.4 in /usr/local/lib/python3.7/dist-packages (from ipython>=1.0->ipython-sql) (1.0.18)\n",
      "Requirement already satisfied: simplegeneric>0.8 in /usr/local/lib/python3.7/dist-packages (from ipython>=1.0->ipython-sql) (0.8.1)\n",
      "Requirement already satisfied: pickleshare in /usr/local/lib/python3.7/dist-packages (from ipython>=1.0->ipython-sql) (0.7.5)\n",
      "Requirement already satisfied: decorator in /usr/local/lib/python3.7/dist-packages (from ipython>=1.0->ipython-sql) (4.4.2)\n",
      "Requirement already satisfied: setuptools>=18.5 in /usr/local/lib/python3.7/dist-packages (from ipython>=1.0->ipython-sql) (57.4.0)\n",
      "Requirement already satisfied: traitlets>=4.2 in /usr/local/lib/python3.7/dist-packages (from ipython>=1.0->ipython-sql) (5.1.0)\n",
      "Requirement already satisfied: pexpect in /usr/local/lib/python3.7/dist-packages (from ipython>=1.0->ipython-sql) (4.8.0)\n",
      "Requirement already satisfied: wcwidth in /usr/local/lib/python3.7/dist-packages (from prompt-toolkit<2.0.0,>=1.0.4->ipython>=1.0->ipython-sql) (0.2.5)\n",
      "Requirement already satisfied: greenlet!=0.4.17 in /usr/local/lib/python3.7/dist-packages (from sqlalchemy>=0.6.7->ipython-sql) (1.1.2)\n",
      "Requirement already satisfied: importlib-metadata in /usr/local/lib/python3.7/dist-packages (from sqlalchemy>=0.6.7->ipython-sql) (4.8.1)\n",
      "Requirement already satisfied: zipp>=0.5 in /usr/local/lib/python3.7/dist-packages (from importlib-metadata->sqlalchemy>=0.6.7->ipython-sql) (3.6.0)\n",
      "Requirement already satisfied: typing-extensions>=3.6.4 in /usr/local/lib/python3.7/dist-packages (from importlib-metadata->sqlalchemy>=0.6.7->ipython-sql) (3.7.4.3)\n",
      "Requirement already satisfied: ptyprocess>=0.5 in /usr/local/lib/python3.7/dist-packages (from pexpect->ipython>=1.0->ipython-sql) (0.7.0)\n"
     ]
    }
   ],
   "source": [
    "# !pip install ipython-sql"
   ]
  },
  {
   "cell_type": "code",
   "execution_count": 1,
   "metadata": {
    "id": "70l_lduMhQ0C"
   },
   "outputs": [],
   "source": [
    "%load_ext sql"
   ]
  },
  {
   "cell_type": "code",
   "execution_count": 24,
   "metadata": {
    "colab": {
     "base_uri": "https://localhost:8080/",
     "height": 35
    },
    "id": "hkiL54ZWhaAh",
    "outputId": "1306ecfa-7c5b-4444-db2c-56ea8fb1fb80"
   },
   "outputs": [
    {
     "data": {
      "application/vnd.google.colaboratory.intrinsic+json": {
       "type": "string"
      },
      "text/plain": [
       "'Connected: @None'"
      ]
     },
     "execution_count": 24,
     "metadata": {},
     "output_type": "execute_result"
    }
   ],
   "source": [
    "%sql sqlite://"
   ]
  },
  {
   "cell_type": "code",
   "execution_count": 15,
   "metadata": {
    "id": "SIwgt7buho_7"
   },
   "outputs": [],
   "source": [
    "database = r\"/content/gdrive/MyDrive/Colab Notebooks/Job Exercises/touches.sqlite3\"\n",
    "\n",
    "# creating a database connection\n",
    "conn = create_connection(database)"
   ]
  },
  {
   "cell_type": "code",
   "execution_count": 17,
   "metadata": {
    "id": "4BYHlm8SlYHM"
   },
   "outputs": [],
   "source": [
    "cur = conn.cursor()"
   ]
  },
  {
   "cell_type": "code",
   "execution_count": 18,
   "metadata": {
    "colab": {
     "base_uri": "https://localhost:8080/",
     "height": 265
    },
    "id": "zliehrpylXt2",
    "outputId": "f2ee352e-916d-4689-fb60-1faf5286c9c3"
   },
   "outputs": [
    {
     "name": "stderr",
     "output_type": "stream",
     "text": [
      "ERROR:root:An unexpected error occurred while tokenizing input\n",
      "The following traceback may be corrupted or invalid\n",
      "The error message is: ('EOF in multi-line string', (1, 0))\n",
      "\n"
     ]
    },
    {
     "ename": "OperationalError",
     "evalue": "ignored",
     "output_type": "error",
     "traceback": [
      "\u001b[0;31m---------------------------------------------------------------------------\u001b[0m",
      "\u001b[0;31mOperationalError\u001b[0m                          Traceback (most recent call last)",
      "\u001b[0;32m<ipython-input-18-81e1885beee6>\u001b[0m in \u001b[0;36m<module>\u001b[0;34m()\u001b[0m\n\u001b[1;32m     18\u001b[0m \u001b[0mORDER\u001b[0m \u001b[0mBY\u001b[0m \u001b[0mCOUNT\u001b[0m\u001b[0;34m(\u001b[0m\u001b[0mtouch_type\u001b[0m\u001b[0;34m)\u001b[0m \u001b[0mDESC\u001b[0m\u001b[0;34m;\u001b[0m\u001b[0;34m\u001b[0m\u001b[0;34m\u001b[0m\u001b[0m\n\u001b[1;32m     19\u001b[0m \u001b[0;34m\u001b[0m\u001b[0m\n\u001b[0;32m---> 20\u001b[0;31m \"\"\")\n\u001b[0m",
      "\u001b[0;31mOperationalError\u001b[0m: near \"(\": syntax error"
     ]
    }
   ],
   "source": [
    "cur.execute(\"\"\"\n",
    "\n",
    "SELECT touch_type, COUNT(touch_type) AS Count FROM (\n",
    "SELECT ROW_NUMBER() OVER(PARTITION BY t.person_id ORDER BY t.person_id, t.touch_scheduled_on) AS RowNum,\n",
    "\t\tt.id,\n",
    "       t.person_id,\n",
    "       t.touch_scheduled_on,\n",
    "       t.status, \n",
    "       t.touch_type,\n",
    "       p.company_id,\n",
    "       p.job_seniority\n",
    "FROM touches t \n",
    "\tInner Join persons p ON p.id = (SELECT p.Id FROM persons p WHERE p.id = t.person_id ORDER BY p.id LIMIT 1)\n",
    "ORDER BY t.person_id, t.id \n",
    ") t\n",
    "WHERE RowNum = 1\n",
    "GROUP BY touch_type \n",
    "ORDER BY COUNT(touch_type) DESC;\n",
    "\n",
    "\"\"\")"
   ]
  },
  {
   "cell_type": "code",
   "execution_count": 16,
   "metadata": {
    "colab": {
     "base_uri": "https://localhost:8080/",
     "height": 748
    },
    "id": "13QbojFP9rGi",
    "outputId": "d74bf5a5-aa11-426f-f870-7603b485e6b1"
   },
   "outputs": [
    {
     "ename": "DatabaseError",
     "evalue": "ignored",
     "output_type": "error",
     "traceback": [
      "\u001b[0;31m---------------------------------------------------------------------------\u001b[0m",
      "\u001b[0;31mOperationalError\u001b[0m                          Traceback (most recent call last)",
      "\u001b[0;32m/usr/local/lib/python3.7/dist-packages/pandas/io/sql.py\u001b[0m in \u001b[0;36mexecute\u001b[0;34m(self, *args, **kwargs)\u001b[0m\n\u001b[1;32m   1680\u001b[0m         \u001b[0;32mtry\u001b[0m\u001b[0;34m:\u001b[0m\u001b[0;34m\u001b[0m\u001b[0;34m\u001b[0m\u001b[0m\n\u001b[0;32m-> 1681\u001b[0;31m             \u001b[0mcur\u001b[0m\u001b[0;34m.\u001b[0m\u001b[0mexecute\u001b[0m\u001b[0;34m(\u001b[0m\u001b[0;34m*\u001b[0m\u001b[0margs\u001b[0m\u001b[0;34m,\u001b[0m \u001b[0;34m**\u001b[0m\u001b[0mkwargs\u001b[0m\u001b[0;34m)\u001b[0m\u001b[0;34m\u001b[0m\u001b[0;34m\u001b[0m\u001b[0m\n\u001b[0m\u001b[1;32m   1682\u001b[0m             \u001b[0;32mreturn\u001b[0m \u001b[0mcur\u001b[0m\u001b[0;34m\u001b[0m\u001b[0;34m\u001b[0m\u001b[0m\n",
      "\u001b[0;31mOperationalError\u001b[0m: near \"(\": syntax error",
      "\nThe above exception was the direct cause of the following exception:\n",
      "\u001b[0;31mDatabaseError\u001b[0m                             Traceback (most recent call last)",
      "\u001b[0;32m<ipython-input-16-c237aa1f2174>\u001b[0m in \u001b[0;36m<module>\u001b[0;34m()\u001b[0m\n\u001b[1;32m     20\u001b[0m \"\"\"\n\u001b[1;32m     21\u001b[0m \u001b[0;31m# df = pd.read_sql_query(\"SELECT * from companies\", conn)\u001b[0m\u001b[0;34m\u001b[0m\u001b[0;34m\u001b[0m\u001b[0;34m\u001b[0m\u001b[0m\n\u001b[0;32m---> 22\u001b[0;31m \u001b[0mdf2\u001b[0m \u001b[0;34m=\u001b[0m \u001b[0mpd\u001b[0m\u001b[0;34m.\u001b[0m\u001b[0mread_sql_query\u001b[0m\u001b[0;34m(\u001b[0m\u001b[0mqry2\u001b[0m\u001b[0;34m,\u001b[0m \u001b[0mconn\u001b[0m\u001b[0;34m)\u001b[0m\u001b[0;34m\u001b[0m\u001b[0;34m\u001b[0m\u001b[0m\n\u001b[0m\u001b[1;32m     23\u001b[0m \u001b[0;31m# conn.execute(qry2)\u001b[0m\u001b[0;34m\u001b[0m\u001b[0;34m\u001b[0m\u001b[0;34m\u001b[0m\u001b[0m\n\u001b[1;32m     24\u001b[0m \u001b[0;34m\u001b[0m\u001b[0m\n",
      "\u001b[0;32m/usr/local/lib/python3.7/dist-packages/pandas/io/sql.py\u001b[0m in \u001b[0;36mread_sql_query\u001b[0;34m(sql, con, index_col, coerce_float, params, parse_dates, chunksize)\u001b[0m\n\u001b[1;32m    381\u001b[0m         \u001b[0mcoerce_float\u001b[0m\u001b[0;34m=\u001b[0m\u001b[0mcoerce_float\u001b[0m\u001b[0;34m,\u001b[0m\u001b[0;34m\u001b[0m\u001b[0;34m\u001b[0m\u001b[0m\n\u001b[1;32m    382\u001b[0m         \u001b[0mparse_dates\u001b[0m\u001b[0;34m=\u001b[0m\u001b[0mparse_dates\u001b[0m\u001b[0;34m,\u001b[0m\u001b[0;34m\u001b[0m\u001b[0;34m\u001b[0m\u001b[0m\n\u001b[0;32m--> 383\u001b[0;31m         \u001b[0mchunksize\u001b[0m\u001b[0;34m=\u001b[0m\u001b[0mchunksize\u001b[0m\u001b[0;34m,\u001b[0m\u001b[0;34m\u001b[0m\u001b[0;34m\u001b[0m\u001b[0m\n\u001b[0m\u001b[1;32m    384\u001b[0m     )\n\u001b[1;32m    385\u001b[0m \u001b[0;34m\u001b[0m\u001b[0m\n",
      "\u001b[0;32m/usr/local/lib/python3.7/dist-packages/pandas/io/sql.py\u001b[0m in \u001b[0;36mread_query\u001b[0;34m(self, sql, index_col, coerce_float, params, parse_dates, chunksize)\u001b[0m\n\u001b[1;32m   1725\u001b[0m \u001b[0;34m\u001b[0m\u001b[0m\n\u001b[1;32m   1726\u001b[0m         \u001b[0margs\u001b[0m \u001b[0;34m=\u001b[0m \u001b[0m_convert_params\u001b[0m\u001b[0;34m(\u001b[0m\u001b[0msql\u001b[0m\u001b[0;34m,\u001b[0m \u001b[0mparams\u001b[0m\u001b[0;34m)\u001b[0m\u001b[0;34m\u001b[0m\u001b[0;34m\u001b[0m\u001b[0m\n\u001b[0;32m-> 1727\u001b[0;31m         \u001b[0mcursor\u001b[0m \u001b[0;34m=\u001b[0m \u001b[0mself\u001b[0m\u001b[0;34m.\u001b[0m\u001b[0mexecute\u001b[0m\u001b[0;34m(\u001b[0m\u001b[0;34m*\u001b[0m\u001b[0margs\u001b[0m\u001b[0;34m)\u001b[0m\u001b[0;34m\u001b[0m\u001b[0;34m\u001b[0m\u001b[0m\n\u001b[0m\u001b[1;32m   1728\u001b[0m         \u001b[0mcolumns\u001b[0m \u001b[0;34m=\u001b[0m \u001b[0;34m[\u001b[0m\u001b[0mcol_desc\u001b[0m\u001b[0;34m[\u001b[0m\u001b[0;36m0\u001b[0m\u001b[0;34m]\u001b[0m \u001b[0;32mfor\u001b[0m \u001b[0mcol_desc\u001b[0m \u001b[0;32min\u001b[0m \u001b[0mcursor\u001b[0m\u001b[0;34m.\u001b[0m\u001b[0mdescription\u001b[0m\u001b[0;34m]\u001b[0m\u001b[0;34m\u001b[0m\u001b[0;34m\u001b[0m\u001b[0m\n\u001b[1;32m   1729\u001b[0m \u001b[0;34m\u001b[0m\u001b[0m\n",
      "\u001b[0;32m/usr/local/lib/python3.7/dist-packages/pandas/io/sql.py\u001b[0m in \u001b[0;36mexecute\u001b[0;34m(self, *args, **kwargs)\u001b[0m\n\u001b[1;32m   1691\u001b[0m \u001b[0;34m\u001b[0m\u001b[0m\n\u001b[1;32m   1692\u001b[0m             \u001b[0mex\u001b[0m \u001b[0;34m=\u001b[0m \u001b[0mDatabaseError\u001b[0m\u001b[0;34m(\u001b[0m\u001b[0;34mf\"Execution failed on sql '{args[0]}': {exc}\"\u001b[0m\u001b[0;34m)\u001b[0m\u001b[0;34m\u001b[0m\u001b[0;34m\u001b[0m\u001b[0m\n\u001b[0;32m-> 1693\u001b[0;31m             \u001b[0;32mraise\u001b[0m \u001b[0mex\u001b[0m \u001b[0;32mfrom\u001b[0m \u001b[0mexc\u001b[0m\u001b[0;34m\u001b[0m\u001b[0;34m\u001b[0m\u001b[0m\n\u001b[0m\u001b[1;32m   1694\u001b[0m \u001b[0;34m\u001b[0m\u001b[0m\n\u001b[1;32m   1695\u001b[0m     \u001b[0;34m@\u001b[0m\u001b[0mstaticmethod\u001b[0m\u001b[0;34m\u001b[0m\u001b[0;34m\u001b[0m\u001b[0m\n",
      "\u001b[0;31mDatabaseError\u001b[0m: Execution failed on sql '\n\nSELECT touch_type, COUNT(touch_type) AS Count FROM (\nSELECT ROW_NUMBER() OVER(PARTITION BY t.person_id ORDER BY t.person_id, t.touch_scheduled_on) AS RowNum,\n\t\tt.id,\n       t.person_id,\n       t.touch_scheduled_on,\n       t.status, \n       t.touch_type,\n       p.company_id,\n       p.job_seniority\nFROM touches t \n\tInner Join persons p ON p.id = (SELECT p.Id FROM persons p WHERE p.id = t.person_id ORDER BY p.id LIMIT 1)\nORDER BY t.person_id, t.id \n) t\nWHERE RowNum = 1\nGROUP BY touch_type \nORDER BY COUNT(touch_type) DESC;\n\n': near \"(\": syntax error"
     ]
    }
   ],
   "source": [
    "qry2 = \"\"\"\n",
    "\n",
    "SELECT touch_type, COUNT(touch_type) AS Count FROM (\n",
    "SELECT ROW_NUMBER() OVER(PARTITION BY t.person_id ORDER BY t.person_id, t.touch_scheduled_on) AS RowNum,\n",
    "\t\tt.id,\n",
    "       t.person_id,\n",
    "       t.touch_scheduled_on,\n",
    "       t.status, \n",
    "       t.touch_type,\n",
    "       p.company_id,\n",
    "       p.job_seniority\n",
    "FROM touches t \n",
    "\tInner Join persons p ON p.id = (SELECT p.Id FROM persons p WHERE p.id = t.person_id ORDER BY p.id LIMIT 1)\n",
    "ORDER BY t.person_id, t.id \n",
    ") t\n",
    "WHERE RowNum = 1\n",
    "GROUP BY touch_type \n",
    "ORDER BY COUNT(touch_type) DESC;\n",
    "\n",
    "\"\"\"\n",
    "# df = pd.read_sql_query(\"SELECT * from companies\", conn)\n",
    "df2 = pd.read_sql_query(qry2, conn)\n",
    "# conn.execute(qry2)\n",
    "\n",
    "conn.commit()\n",
    "\n",
    "# Verify that result of SQL query is stored in the dataframe\n",
    "# print(df.head(), df.tail(), df.describe())\n",
    "# df2.head()\n",
    "\n",
    "# conn.close()"
   ]
  },
  {
   "cell_type": "code",
   "execution_count": null,
   "metadata": {
    "id": "PwWQ_PRv9rGi"
   },
   "outputs": [],
   "source": []
  },
  {
   "cell_type": "code",
   "execution_count": null,
   "metadata": {
    "id": "nO4txkxr9rGj"
   },
   "outputs": [],
   "source": []
  },
  {
   "cell_type": "markdown",
   "metadata": {
    "id": "vA1kPRjf9rGk"
   },
   "source": [
    "### Question 3. Describe the distribution of the job seniorities of people that a seller will first try to contact within a company.\n",
    "\n",
    "To answer this question, you may use visuals, graphs, bunch of scores, tables, writeups - whatever you want. We literally want you to \"describe\" the distribution to us in the best way you can!\n",
    "\n",
    "(Note: this question doesn't really have one right answer. It's more about your style of communicating the results.)"
   ]
  },
  {
   "cell_type": "code",
   "execution_count": null,
   "metadata": {
    "id": "pBWXDpPs9rGk"
   },
   "outputs": [],
   "source": []
  },
  {
   "cell_type": "code",
   "execution_count": null,
   "metadata": {
    "id": "YGF06pAK9rGl"
   },
   "outputs": [],
   "source": []
  },
  {
   "cell_type": "code",
   "execution_count": null,
   "metadata": {
    "id": "gEUw-2y79rGl"
   },
   "outputs": [],
   "source": []
  },
  {
   "cell_type": "markdown",
   "metadata": {
    "id": "Mk-uKBLn9rGl"
   },
   "source": [
    "### Question 4. Describe the distribution of the mixture of job seniorities of people that a seller will touch during the entire engagement with a company.\n",
    "Keep in mind that you get to decide what “mixture” means, so do begin your answer by defining it - and explaining why you think this definition makes sense. Again, feel free to use whatever visuals, graphs, bunch of scores, tables, writeups etc. that you think is appropriate for this question.\n",
    "\n",
    "(Note: this question doesn't really have one right answer. It's more about your style of communicating the results.)"
   ]
  },
  {
   "cell_type": "code",
   "execution_count": null,
   "metadata": {
    "id": "iVf2m0zx9rGm"
   },
   "outputs": [],
   "source": []
  },
  {
   "cell_type": "code",
   "execution_count": null,
   "metadata": {
    "id": "O4IEb5Nn9rGm"
   },
   "outputs": [],
   "source": []
  },
  {
   "cell_type": "code",
   "execution_count": null,
   "metadata": {
    "id": "0igRu9P19rGn"
   },
   "outputs": [],
   "source": []
  },
  {
   "cell_type": "markdown",
   "metadata": {
    "id": "n6eHEuId9rGn"
   },
   "source": [
    "### Question 5. Build an algorithm that, when a seller is about to contact a company it never reached out to before, recommends the best/optimal mixture of job seniorities (with “mixture” as defined by you in Question 4.) they should be targeting within that company during the entire engagement.\n",
    "\n",
    "This is the hardest question in this exercise. If you feel you have a good idea what the algorithm should look like but either feel uncomfortable coding-wise or feel pressed for time, it is perfectly OK to describe your idea in words. Be clear, explain both what it does and why you think this is the right approach.\n",
    "\n",
    "Whether or not you go the code-route or writeup-route, be sure to explain the assumptions and choices you made, why you made them and how you would test them.\n",
    "\n",
    "(Note: like with the previous two questions, this question doesn't really have one right answer either!)"
   ]
  },
  {
   "cell_type": "code",
   "execution_count": null,
   "metadata": {
    "id": "IpPXDxPo9rGo"
   },
   "outputs": [],
   "source": []
  },
  {
   "cell_type": "code",
   "execution_count": null,
   "metadata": {
    "id": "k0dnDS5h9rGo"
   },
   "outputs": [],
   "source": []
  },
  {
   "cell_type": "code",
   "execution_count": null,
   "metadata": {
    "id": "_zZP4qob9rGp"
   },
   "outputs": [],
   "source": []
  }
 ],
 "metadata": {
  "colab": {
   "collapsed_sections": [],
   "name": "SalesLoft-exercise.ipynb",
   "provenance": []
  },
  "kernelspec": {
   "display_name": "Python 3",
   "language": "python",
   "name": "python3"
  },
  "language_info": {
   "codemirror_mode": {
    "name": "ipython",
    "version": 3
   },
   "file_extension": ".py",
   "mimetype": "text/x-python",
   "name": "python",
   "nbconvert_exporter": "python",
   "pygments_lexer": "ipython3",
   "version": "3.7.10"
  }
 },
 "nbformat": 4,
 "nbformat_minor": 1
}
